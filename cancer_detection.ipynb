{
 "cells": [
  {
   "cell_type": "markdown",
   "metadata": {
    "colab_type": "text",
    "id": "3DR-eO17geWu"
   },
   "source": [
    "# Lung Cancer Prediction Convolutional Neural Network"
   ]
  },
  {
   "cell_type": "markdown",
   "metadata": {
    "colab_type": "text",
    "id": "EMefrVPCg-60"
   },
   "source": [
    "### Importing the libraries"
   ]
  },
  {
   "cell_type": "code",
   "execution_count": 12,
   "metadata": {
    "colab": {},
    "colab_type": "code",
    "id": "sCV30xyVhFbE"
   },
   "outputs": [],
   "source": [
    "import tensorflow as tf\n",
    "from keras.preprocessing.image import ImageDataGenerator"
   ]
  },
  {
   "cell_type": "markdown",
   "metadata": {
    "colab_type": "text",
    "id": "oxQxCBWyoGPE"
   },
   "source": [
    "## Part 1 - Data Preprocessing"
   ]
  },
  {
   "cell_type": "markdown",
   "metadata": {
    "colab_type": "text",
    "id": "MvE-heJNo3GG"
   },
   "source": [
    "### Preprocessing the Training set"
   ]
  },
  {
   "cell_type": "code",
   "execution_count": 13,
   "metadata": {
    "colab": {},
    "colab_type": "code",
    "id": "0koUcJMJpEBD"
   },
   "outputs": [
    {
     "name": "stdout",
     "output_type": "stream",
     "text": [
      "Found 343 images belonging to 2 classes.\n"
     ]
    }
   ],
   "source": [
    "train_datagen = ImageDataGenerator(rescale = 1./255,\n",
    "                                   shear_range = 0.2,\n",
    "                                   zoom_range = 0.2,\n",
    "                                   horizontal_flip = True)\n",
    "training_set = train_datagen.flow_from_directory('dataset/training_set',\n",
    "                                                 target_size = (64, 64),\n",
    "                                                 batch_size = 32,\n",
    "                                                 class_mode = 'binary')"
   ]
  },
  {
   "cell_type": "markdown",
   "metadata": {
    "colab_type": "text",
    "id": "mrCMmGw9pHys"
   },
   "source": [
    "### Preprocessing the Test set"
   ]
  },
  {
   "cell_type": "code",
   "execution_count": 14,
   "metadata": {
    "colab": {},
    "colab_type": "code",
    "id": "SH4WzfOhpKc3"
   },
   "outputs": [
    {
     "name": "stdout",
     "output_type": "stream",
     "text": [
      "Found 112 images belonging to 2 classes.\n"
     ]
    }
   ],
   "source": [
    "test_datagen = ImageDataGenerator(rescale = 1./255)\n",
    "test_set = test_datagen.flow_from_directory('dataset/test_set',\n",
    "                                            target_size = (64, 64),\n",
    "                                            batch_size = 32,\n",
    "                                            class_mode = 'binary')"
   ]
  },
  {
   "cell_type": "markdown",
   "metadata": {
    "colab_type": "text",
    "id": "af8O4l90gk7B"
   },
   "source": [
    "## Part 2 - Building the CNN"
   ]
  },
  {
   "cell_type": "markdown",
   "metadata": {
    "colab_type": "text",
    "id": "ces1gXY2lmoX"
   },
   "source": [
    "### Initialising the CNN"
   ]
  },
  {
   "cell_type": "code",
   "execution_count": 15,
   "metadata": {
    "colab": {},
    "colab_type": "code",
    "id": "SAUt4UMPlhLS"
   },
   "outputs": [],
   "source": [
    "cnn = tf.keras.models.Sequential()"
   ]
  },
  {
   "cell_type": "markdown",
   "metadata": {
    "colab_type": "text",
    "id": "u5YJj_XMl5LF"
   },
   "source": [
    "### Step 1 - Convolution"
   ]
  },
  {
   "cell_type": "code",
   "execution_count": 16,
   "metadata": {
    "colab": {},
    "colab_type": "code",
    "id": "XPzPrMckl-hV"
   },
   "outputs": [],
   "source": [
    "cnn.add(tf.keras.layers.Conv2D(filters=32, kernel_size=3, activation='relu', input_shape=[64, 64,3]))"
   ]
  },
  {
   "cell_type": "markdown",
   "metadata": {
    "colab_type": "text",
    "id": "tf87FpvxmNOJ"
   },
   "source": [
    "### Step 2 - Pooling"
   ]
  },
  {
   "cell_type": "code",
   "execution_count": 17,
   "metadata": {
    "colab": {},
    "colab_type": "code",
    "id": "ncpqPl69mOac"
   },
   "outputs": [],
   "source": [
    "cnn.add(tf.keras.layers.MaxPool2D(pool_size=2, strides=2))"
   ]
  },
  {
   "cell_type": "markdown",
   "metadata": {
    "colab_type": "text",
    "id": "xaTOgD8rm4mU"
   },
   "source": [
    "### Adding a second convolutional layer"
   ]
  },
  {
   "cell_type": "code",
   "execution_count": 18,
   "metadata": {
    "colab": {},
    "colab_type": "code",
    "id": "i_-FZjn_m8gk"
   },
   "outputs": [],
   "source": [
    "cnn.add(tf.keras.layers.Conv2D(filters=32, kernel_size=3, activation='relu'))\n",
    "cnn.add(tf.keras.layers.MaxPool2D(pool_size=2, strides=2))"
   ]
  },
  {
   "cell_type": "markdown",
   "metadata": {
    "colab_type": "text",
    "id": "tmiEuvTunKfk"
   },
   "source": [
    "### Step 3 - Flattening"
   ]
  },
  {
   "cell_type": "code",
   "execution_count": 19,
   "metadata": {
    "colab": {},
    "colab_type": "code",
    "id": "6AZeOGCvnNZn"
   },
   "outputs": [],
   "source": [
    "cnn.add(tf.keras.layers.Flatten())"
   ]
  },
  {
   "cell_type": "markdown",
   "metadata": {
    "colab_type": "text",
    "id": "dAoSECOm203v"
   },
   "source": [
    "### Step 4 - Full Connection"
   ]
  },
  {
   "cell_type": "code",
   "execution_count": 20,
   "metadata": {
    "colab": {},
    "colab_type": "code",
    "id": "8GtmUlLd26Nq"
   },
   "outputs": [],
   "source": [
    "cnn.add(tf.keras.layers.Dense(units=128, activation='relu'))"
   ]
  },
  {
   "cell_type": "markdown",
   "metadata": {
    "colab_type": "text",
    "id": "yTldFvbX28Na"
   },
   "source": [
    "### Step 5 - Output Layer"
   ]
  },
  {
   "cell_type": "code",
   "execution_count": 21,
   "metadata": {
    "colab": {},
    "colab_type": "code",
    "id": "1p_Zj1Mc3Ko_"
   },
   "outputs": [],
   "source": [
    "cnn.add(tf.keras.layers.Dense(units=1, activation='sigmoid'))"
   ]
  },
  {
   "cell_type": "markdown",
   "metadata": {
    "colab_type": "text",
    "id": "D6XkI90snSDl"
   },
   "source": [
    "## Part 3 - Training the CNN"
   ]
  },
  {
   "cell_type": "markdown",
   "metadata": {
    "colab_type": "text",
    "id": "vfrFQACEnc6i"
   },
   "source": [
    "### Compiling the CNN and Train the CNN Model"
   ]
  },
  {
   "cell_type": "code",
   "execution_count": 22,
   "metadata": {
    "colab": {},
    "colab_type": "code",
    "id": "NALksrNQpUlJ"
   },
   "outputs": [
    {
     "name": "stdout",
     "output_type": "stream",
     "text": [
      "Epoch 1/30\n"
     ]
    },
    {
     "name": "stdout",
     "output_type": "stream",
     "text": [
      "11/11 [==============================] - 7s 447ms/step - loss: 0.7738 - accuracy: 0.5510 - val_loss: 0.6817 - val_accuracy: 0.6429\n",
      "Epoch 2/30\n",
      "11/11 [==============================] - 4s 390ms/step - loss: 0.6628 - accuracy: 0.6618 - val_loss: 0.6016 - val_accuracy: 0.4375\n",
      "Epoch 3/30\n",
      "11/11 [==============================] - 4s 380ms/step - loss: 0.5838 - accuracy: 0.6939 - val_loss: 0.4721 - val_accuracy: 0.7768\n",
      "Epoch 4/30\n",
      "11/11 [==============================] - 4s 379ms/step - loss: 0.4649 - accuracy: 0.8105 - val_loss: 0.3028 - val_accuracy: 0.8750\n",
      "Epoch 5/30\n",
      "11/11 [==============================] - 4s 375ms/step - loss: 0.3411 - accuracy: 0.8513 - val_loss: 0.1574 - val_accuracy: 0.9554\n",
      "Epoch 6/30\n",
      "11/11 [==============================] - 4s 373ms/step - loss: 0.2200 - accuracy: 0.9038 - val_loss: 0.1127 - val_accuracy: 0.9821\n",
      "Epoch 7/30\n",
      "11/11 [==============================] - 4s 367ms/step - loss: 0.2036 - accuracy: 0.9300 - val_loss: 0.0745 - val_accuracy: 0.9911\n",
      "Epoch 8/30\n",
      "11/11 [==============================] - 4s 365ms/step - loss: 0.2080 - accuracy: 0.9155 - val_loss: 0.0948 - val_accuracy: 0.9732\n",
      "Epoch 9/30\n",
      "11/11 [==============================] - 4s 375ms/step - loss: 0.1492 - accuracy: 0.9563 - val_loss: 0.0862 - val_accuracy: 0.9821\n",
      "Epoch 10/30\n",
      "11/11 [==============================] - 4s 385ms/step - loss: 0.1228 - accuracy: 0.9621 - val_loss: 0.0965 - val_accuracy: 0.9732\n",
      "Epoch 11/30\n",
      "11/11 [==============================] - 4s 387ms/step - loss: 0.1500 - accuracy: 0.9679 - val_loss: 0.1173 - val_accuracy: 0.9732\n",
      "Epoch 12/30\n",
      "11/11 [==============================] - 4s 380ms/step - loss: 0.1564 - accuracy: 0.9359 - val_loss: 0.1097 - val_accuracy: 0.9732\n",
      "Epoch 13/30\n",
      "11/11 [==============================] - 5s 443ms/step - loss: 0.1278 - accuracy: 0.9446 - val_loss: 0.0866 - val_accuracy: 0.9821\n",
      "Epoch 14/30\n",
      "11/11 [==============================] - 5s 423ms/step - loss: 0.1195 - accuracy: 0.9534 - val_loss: 0.0731 - val_accuracy: 0.9821\n",
      "Epoch 15/30\n",
      "11/11 [==============================] - 4s 374ms/step - loss: 0.1013 - accuracy: 0.9650 - val_loss: 0.0497 - val_accuracy: 0.9911\n",
      "Epoch 16/30\n",
      "11/11 [==============================] - 4s 387ms/step - loss: 0.1282 - accuracy: 0.9708 - val_loss: 0.0807 - val_accuracy: 0.9821\n",
      "Epoch 17/30\n",
      "11/11 [==============================] - 4s 378ms/step - loss: 0.0917 - accuracy: 0.9708 - val_loss: 0.0944 - val_accuracy: 0.9732\n",
      "Epoch 18/30\n",
      "11/11 [==============================] - 4s 397ms/step - loss: 0.0887 - accuracy: 0.9650 - val_loss: 0.0875 - val_accuracy: 0.9732\n",
      "Epoch 19/30\n",
      "11/11 [==============================] - 5s 423ms/step - loss: 0.0762 - accuracy: 0.9767 - val_loss: 0.0972 - val_accuracy: 0.9732\n",
      "Epoch 20/30\n",
      "11/11 [==============================] - 5s 415ms/step - loss: 0.0849 - accuracy: 0.9767 - val_loss: 0.0701 - val_accuracy: 0.9911\n",
      "Epoch 21/30\n",
      "11/11 [==============================] - 5s 426ms/step - loss: 0.0939 - accuracy: 0.9679 - val_loss: 0.0775 - val_accuracy: 0.9821\n",
      "Epoch 22/30\n",
      "11/11 [==============================] - 5s 426ms/step - loss: 0.0981 - accuracy: 0.9708 - val_loss: 0.0595 - val_accuracy: 0.9911\n",
      "Epoch 23/30\n",
      "11/11 [==============================] - 5s 425ms/step - loss: 0.0907 - accuracy: 0.9679 - val_loss: 0.1257 - val_accuracy: 0.9732\n",
      "Epoch 24/30\n",
      "11/11 [==============================] - 5s 448ms/step - loss: 0.0319 - accuracy: 0.9942 - val_loss: 0.0761 - val_accuracy: 0.9821\n",
      "Epoch 25/30\n",
      "11/11 [==============================] - 5s 475ms/step - loss: 0.0757 - accuracy: 0.9738 - val_loss: 0.0978 - val_accuracy: 0.9732\n",
      "Epoch 26/30\n",
      "11/11 [==============================] - 4s 380ms/step - loss: 0.0860 - accuracy: 0.9738 - val_loss: 0.2078 - val_accuracy: 0.9554\n",
      "Epoch 27/30\n",
      "11/11 [==============================] - 4s 373ms/step - loss: 0.0877 - accuracy: 0.9650 - val_loss: 0.1530 - val_accuracy: 0.9554\n",
      "Epoch 28/30\n",
      "11/11 [==============================] - 4s 391ms/step - loss: 0.0569 - accuracy: 0.9825 - val_loss: 0.0384 - val_accuracy: 0.9911\n",
      "Epoch 29/30\n",
      "11/11 [==============================] - 4s 389ms/step - loss: 0.0405 - accuracy: 0.9854 - val_loss: 0.0530 - val_accuracy: 0.9911\n",
      "Epoch 30/30\n",
      "11/11 [==============================] - 5s 433ms/step - loss: 0.0374 - accuracy: 0.9913 - val_loss: 0.0680 - val_accuracy: 0.9821\n"
     ]
    },
    {
     "data": {
      "text/plain": [
       "<keras.callbacks.History at 0x1bf74b36c20>"
      ]
     },
     "execution_count": 22,
     "metadata": {},
     "output_type": "execute_result"
    }
   ],
   "source": [
    "cnn.compile(optimizer = 'adam', loss = 'binary_crossentropy', metrics = ['accuracy'])\n",
    "cnn.fit(x = training_set, validation_data = test_set, epochs = 30)\n"
   ]
  },
  {
   "cell_type": "markdown",
   "metadata": {
    "colab_type": "text",
    "id": "U3PZasO0006Z"
   },
   "source": [
    "## Part 4 - Making a single prediction"
   ]
  },
  {
   "cell_type": "code",
   "execution_count": 23,
   "metadata": {
    "colab": {},
    "colab_type": "code",
    "id": "gsSiWEJY1BPB"
   },
   "outputs": [
    {
     "name": "stdout",
     "output_type": "stream",
     "text": [
      "1/1 [==============================] - 0s 247ms/step\n"
     ]
    }
   ],
   "source": [
    "import numpy as np\n",
    "import matplotlib.pyplot as plt\n",
    "from tensorflow.keras.preprocessing.image import load_img, img_to_array\n",
    "\n",
    "test_image = load_img('dataset/single_prediction/cancer (2).png', target_size=(64, 64))\n",
    "test_image = img_to_array(test_image)\n",
    "test_image = np.expand_dims(test_image, axis=0)\n",
    "\n",
    "result = cnn.predict(test_image)\n",
    "\n",
    "class_indices = {0: 'Cancer', 1: 'Normal'}\n",
    "\n",
    "predicted_class = class_indices[int(result[0][0])]"
   ]
  },
  {
   "cell_type": "code",
   "execution_count": 24,
   "metadata": {},
   "outputs": [
    {
     "data": {
      "image/png": "[encoded data removed]",
      "text/plain": [
       "<Figure size 640x480 with 1 Axes>"
      ]
     },
     "metadata": {},
     "output_type": "display_data"
    }
   ],
   "source": [
    "# Display the image with the predicted class\n",
    "plt.imshow(test_image[0] / 255.0)\n",
    "plt.title(f'Prediction: {predicted_class}')\n",
    "plt.show()"
   ]
  }
 ],
 "metadata": {
  "colab": {
   "collapsed_sections": [],
   "name": "Copy of convolutional_neural_network.ipynb",
   "provenance": [],
   "toc_visible": true
  },
  "kernelspec": {
   "display_name": "Python 3",
   "language": "python",
   "name": "python3"
  },
  "language_info": {
   "codemirror_mode": {
    "name": "ipython",
    "version": 3
   },
   "file_extension": ".py",
   "mimetype": "text/x-python",
   "name": "python",
   "nbconvert_exporter": "python",
   "pygments_lexer": "ipython3",
   "version": "3.10.9"
  }
 },
 "nbformat": 4,
 "nbformat_minor": 1
}
